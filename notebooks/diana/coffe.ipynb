{
 "cells": [
  {
   "cell_type": "code",
   "execution_count": 1,
   "metadata": {},
   "outputs": [],
   "source": [
    "import torch\n",
    "import torchvision\n",
    "import torch.nn as nn\n",
    "from torch.utils.data import DataLoader\n",
    "from torchvision import datasets\n",
    "from torchvision import transforms as T\n",
    "from torchvision import io\n",
    "from torchvision.models import resnet18, ResNet18_Weights\n",
    "\n",
    "from torchvision.transforms import RandomHorizontalFlip, RandomRotation, RandomVerticalFlip, ColorJitter, RandomCrop\n",
    "\n",
    "\n",
    "import torchutils as tu\n",
    "import json\n",
    "import numpy as np\n",
    "import matplotlib.pyplot as plt\n",
    "import os"
   ]
  },
  {
   "cell_type": "code",
   "execution_count": 2,
   "metadata": {},
   "outputs": [
    {
     "name": "stdout",
     "output_type": "stream",
     "text": [
      "cuda\n"
     ]
    }
   ],
   "source": [
    "DEVICE = 'cuda' if torch.cuda.is_available() else 'cpu'\n",
    "print(DEVICE)"
   ]
  },
  {
   "cell_type": "code",
   "execution_count": 3,
   "metadata": {},
   "outputs": [],
   "source": [
    "output_dir = '/home/xuri/Загрузки/coffee-beans-project/coffee-beans/'\n",
    "# определение пути\n",
    "train_dir = os.path.join(output_dir, 'train')\n",
    "val_dir = os.path.join(output_dir, 'test')"
   ]
  },
  {
   "cell_type": "code",
   "execution_count": 4,
   "metadata": {},
   "outputs": [],
   "source": [
    "transform = T.Compose([\n",
    "                       T.ColorJitter(),\n",
    "                       T.ToTensor(),\n",
    "                       T.Resize((224, 224))\n",
    "                       ])\n",
    "\n",
    "# Создание датасетов\n",
    "train_dataset = torchvision.datasets.ImageFolder(train_dir, transform=transform)\n",
    "val_dataset = torchvision.datasets.ImageFolder(val_dir, transform=transform)\n",
    "\n",
    "# Создание DataLoader\n",
    "train_loader = DataLoader(train_dataset, batch_size=32, shuffle=True)\n",
    "val_loader = DataLoader(val_dataset, batch_size=32, shuffle=True)"
   ]
  },
  {
   "cell_type": "code",
   "execution_count": 5,
   "metadata": {},
   "outputs": [
    {
     "name": "stderr",
     "output_type": "stream",
     "text": [
      "/home/xuri/ds_bootcamp/nn_project/env/lib/python3.11/site-packages/torchvision/models/_utils.py:208: UserWarning: The parameter 'pretrained' is deprecated since 0.13 and may be removed in the future, please use 'weights' instead.\n",
      "  warnings.warn(\n",
      "/home/xuri/ds_bootcamp/nn_project/env/lib/python3.11/site-packages/torchvision/models/_utils.py:223: UserWarning: Arguments other than a weight enum or `None` for 'weights' are deprecated since 0.13 and may be removed in the future. The current behavior is equivalent to passing `weights=ResNet18_Weights.IMAGENET1K_V1`. You can also use `weights=ResNet18_Weights.DEFAULT` to get the most up-to-date weights.\n",
      "  warnings.warn(msg)\n"
     ]
    }
   ],
   "source": [
    "# Создание экземпляра модели ResNet\n",
    "model = torchvision.models.resnet18(pretrained=True)"
   ]
  },
  {
   "cell_type": "code",
   "execution_count": 6,
   "metadata": {},
   "outputs": [
    {
     "data": {
      "text/plain": [
       "Linear(in_features=512, out_features=1000, bias=True)"
      ]
     },
     "execution_count": 6,
     "metadata": {},
     "output_type": "execute_result"
    }
   ],
   "source": [
    "model.fc"
   ]
  },
  {
   "cell_type": "code",
   "execution_count": 7,
   "metadata": {},
   "outputs": [
    {
     "name": "stdout",
     "output_type": "stream",
     "text": [
      "Linear(in_features=512, out_features=4, bias=True)\n"
     ]
    }
   ],
   "source": [
    "# Заменяем последний слой для задачи классификации кофе\n",
    "num_ftrs = model.fc.in_features\n",
    "model.fc = torch.nn.Linear(num_ftrs, 4) # 4 класса кофе\n",
    "\n",
    "# Проверяем последний слой\n",
    "print(model.fc)"
   ]
  },
  {
   "cell_type": "code",
   "execution_count": 8,
   "metadata": {},
   "outputs": [],
   "source": [
    "# Замораживаем все параметры, кроме классификационного слоя\n",
    "for param in model.parameters():\n",
    "    param.requires_grad = False\n",
    "model.fc.weight.requires_grad = True\n",
    "model.fc.bias.requires_grad = True "
   ]
  },
  {
   "cell_type": "code",
   "execution_count": 9,
   "metadata": {},
   "outputs": [
    {
     "name": "stdout",
     "output_type": "stream",
     "text": [
      "False\n",
      "False\n",
      "False\n",
      "False\n",
      "False\n",
      "False\n",
      "False\n",
      "False\n",
      "False\n",
      "False\n",
      "False\n",
      "False\n",
      "False\n",
      "False\n",
      "False\n",
      "False\n",
      "False\n",
      "False\n",
      "False\n",
      "False\n",
      "False\n",
      "False\n",
      "False\n",
      "False\n",
      "False\n",
      "False\n",
      "False\n",
      "False\n",
      "False\n",
      "False\n",
      "False\n",
      "False\n",
      "False\n",
      "False\n",
      "False\n",
      "False\n",
      "False\n",
      "False\n",
      "False\n",
      "False\n",
      "False\n",
      "False\n",
      "False\n",
      "False\n",
      "False\n",
      "False\n",
      "False\n",
      "False\n",
      "False\n",
      "False\n",
      "False\n",
      "False\n",
      "False\n",
      "False\n",
      "False\n",
      "False\n",
      "False\n",
      "False\n",
      "False\n",
      "False\n",
      "True\n",
      "True\n"
     ]
    }
   ],
   "source": [
    "# Проверка - всё гуд\n",
    "for param in model.parameters():\n",
    "    print(param.requires_grad)"
   ]
  },
  {
   "cell_type": "code",
   "execution_count": 10,
   "metadata": {},
   "outputs": [],
   "source": [
    "# Оптимизатор и функция потерь\n",
    "optimizer = torch.optim.Adam(model.fc.parameters(), lr=0.001)\n",
    "criterion = torch.nn.CrossEntropyLoss()"
   ]
  },
  {
   "cell_type": "code",
   "execution_count": 11,
   "metadata": {},
   "outputs": [],
   "source": [
    "\n",
    "model = model.to(DEVICE)"
   ]
  },
  {
   "cell_type": "code",
   "execution_count": 12,
   "metadata": {},
   "outputs": [],
   "source": [
    "def fit(\n",
    "    model: nn.Module,\n",
    "    n_epochs: int,\n",
    "    optimizer: torch.optim.Optimizer,\n",
    "    train_loader: DataLoader,\n",
    "    valid_loader: DataLoader,\n",
    "    history=None\n",
    ") -> dict:\n",
    "\n",
    "    # будем сохранять значения точности и лосса в history\n",
    "    history = history or {\n",
    "        'train_accs': [],\n",
    "        'train_losses': [],\n",
    "        'valid_accs': [],\n",
    "        'valid_losses': [],\n",
    "    }\n",
    "\n",
    "    # определяем текущую эпоху обучения\n",
    "    start_epoch = len(history['train_accs'])\n",
    "    # запускаем цикл обучения\n",
    "    for epoch in range(start_epoch+1, start_epoch+n_epochs+1):\n",
    "        print(f'{\"-\"*13} Epoch {epoch} {\"-\"*13}')\n",
    "\n",
    "        # перевод модели в режим обучения\n",
    "        model.train()\n",
    "        # инициализируем пустые списки для хранения результатов по батчам\n",
    "        batch_accs = []\n",
    "        batch_losses = []\n",
    "\n",
    "        for images, labels in train_loader:\n",
    "            # перенесем на девайс\n",
    "            images = images.to(DEVICE)\n",
    "            labels = labels.to(DEVICE)\n",
    "\n",
    "            preds = model(images)\n",
    "            loss = criterion(preds, labels)\n",
    "            accuracy = (preds.argmax(axis=1) == labels).cpu().numpy().mean()\n",
    "\n",
    "            batch_losses.append(loss.item())\n",
    "            batch_accs.append(accuracy)\n",
    "\n",
    "            optimizer.zero_grad()\n",
    "            loss.backward()\n",
    "            optimizer.step()\n",
    "\n",
    "        history['train_accs'].append(np.mean(batch_accs))\n",
    "        history['train_losses'].append(np.mean(batch_losses))\n",
    "\n",
    "        # перевод в режим валидации\n",
    "        model.eval()\n",
    "        batch_accs = []\n",
    "        batch_losses = []\n",
    "\n",
    "        for images, labels in valid_loader:\n",
    "            images = images.to(DEVICE)\n",
    "            labels = labels.to(DEVICE)\n",
    "\n",
    "            with torch.inference_mode():\n",
    "                preds = model(images)\n",
    "\n",
    "            loss = criterion(preds, labels)\n",
    "            accuracy = (preds.argmax(axis=1) == labels).cpu().numpy().mean()\n",
    "\n",
    "            batch_losses.append(loss.item())\n",
    "            batch_accs.append(accuracy)\n",
    "\n",
    "        history['valid_accs'].append(np.mean(batch_accs))\n",
    "        history['valid_losses'].append(np.mean(batch_losses))\n",
    "\n",
    "        # печатаем результат\n",
    "        print(\n",
    "            f'train: accuracy {history[\"train_accs\"][-1]:.4f}, loss {history[\"train_losses\"][-1]:.4f}\\n'\n",
    "            f'valid: accuracy {history[\"valid_accs\"][-1]:.4f}, loss {history[\"valid_losses\"][-1]:.4f}'\n",
    "        )\n",
    "        print(f'{\"-\"*35}')\n",
    "        print()\n",
    "\n",
    "    return history\n",
    "    "
   ]
  },
  {
   "cell_type": "code",
   "execution_count": 14,
   "metadata": {},
   "outputs": [
    {
     "name": "stdout",
     "output_type": "stream",
     "text": [
      "------------- Epoch 1 -------------\n",
      "train: accuracy 0.9811, loss 0.1083\n",
      "valid: accuracy 1.0000, loss 0.0628\n",
      "-----------------------------------\n",
      "\n",
      "------------- Epoch 2 -------------\n",
      "train: accuracy 0.9827, loss 0.0979\n",
      "valid: accuracy 0.9976, loss 0.0595\n",
      "-----------------------------------\n",
      "\n",
      "------------- Epoch 3 -------------\n",
      "train: accuracy 0.9762, loss 0.0970\n",
      "valid: accuracy 1.0000, loss 0.0531\n",
      "-----------------------------------\n",
      "\n",
      "------------- Epoch 4 -------------\n",
      "train: accuracy 0.9844, loss 0.0862\n",
      "valid: accuracy 1.0000, loss 0.0484\n",
      "-----------------------------------\n",
      "\n",
      "------------- Epoch 5 -------------\n",
      "train: accuracy 0.9836, loss 0.0876\n",
      "valid: accuracy 1.0000, loss 0.0455\n",
      "-----------------------------------\n",
      "\n",
      "------------- Epoch 6 -------------\n",
      "train: accuracy 0.9729, loss 0.0943\n",
      "valid: accuracy 0.9976, loss 0.0442\n",
      "-----------------------------------\n",
      "\n",
      "------------- Epoch 7 -------------\n",
      "train: accuracy 0.9786, loss 0.0840\n",
      "valid: accuracy 1.0000, loss 0.0383\n",
      "-----------------------------------\n",
      "\n",
      "------------- Epoch 8 -------------\n",
      "train: accuracy 0.9885, loss 0.0684\n",
      "valid: accuracy 0.9976, loss 0.0438\n",
      "-----------------------------------\n",
      "\n",
      "------------- Epoch 9 -------------\n",
      "train: accuracy 0.9811, loss 0.0792\n",
      "valid: accuracy 1.0000, loss 0.0318\n",
      "-----------------------------------\n",
      "\n",
      "------------- Epoch 10 -------------\n",
      "train: accuracy 0.9803, loss 0.0757\n",
      "valid: accuracy 1.0000, loss 0.0308\n",
      "-----------------------------------\n",
      "\n",
      "------------- Epoch 11 -------------\n",
      "train: accuracy 0.9778, loss 0.0766\n",
      "valid: accuracy 1.0000, loss 0.0311\n",
      "-----------------------------------\n",
      "\n",
      "------------- Epoch 12 -------------\n",
      "train: accuracy 0.9778, loss 0.0761\n",
      "valid: accuracy 1.0000, loss 0.0279\n",
      "-----------------------------------\n",
      "\n",
      "------------- Epoch 13 -------------\n",
      "train: accuracy 0.9885, loss 0.0607\n",
      "valid: accuracy 1.0000, loss 0.0264\n",
      "-----------------------------------\n",
      "\n",
      "------------- Epoch 14 -------------\n",
      "train: accuracy 0.9877, loss 0.0654\n",
      "valid: accuracy 1.0000, loss 0.0245\n",
      "-----------------------------------\n",
      "\n",
      "------------- Epoch 15 -------------\n",
      "train: accuracy 0.9868, loss 0.0656\n",
      "valid: accuracy 1.0000, loss 0.0238\n",
      "-----------------------------------\n",
      "\n"
     ]
    }
   ],
   "source": [
    "logs = fit(model, 15, optimizer, train_loader, val_loader)"
   ]
  },
  {
   "cell_type": "code",
   "execution_count": 15,
   "metadata": {},
   "outputs": [
    {
     "data": {
      "image/png": "[encoded data removed]",
      "text/plain": [
       "<Figure size 1400x500 with 2 Axes>"
      ]
     },
     "metadata": {},
     "output_type": "display_data"
    }
   ],
   "source": [
    "# зададим функцию рисования графиков\n",
    "def plot_history(history, grid=True):\n",
    "    fig, ax = plt.subplots(1,2, figsize=(14,5))\n",
    "    \n",
    "    ax[0].plot(history['train_losses'], label='train loss')\n",
    "    ax[0].plot(history['valid_losses'], label='valid loss')\n",
    "    ax[0].set_title(f'Loss on epoch {len(history[\"train_losses\"])}')\n",
    "    ax[0].grid(grid)\n",
    "    ax[0].legend()\n",
    "    \n",
    "    ax[1].plot(history['train_accs'], label='train acc')\n",
    "    ax[1].plot(history['valid_accs'], label='valid acc')\n",
    "    ax[1].set_title(f'Accuracy on epoch {len(history[\"train_losses\"])}')\n",
    "    ax[1].grid(grid)\n",
    "    ax[1].legend()\n",
    "    \n",
    "    plt.show()\n",
    "\n",
    "plot_history(logs)"
   ]
  },
  {
   "cell_type": "code",
   "execution_count": 16,
   "metadata": {},
   "outputs": [
    {
     "data": {
      "text/plain": [
       "{0: 'Dark', 1: 'Green', 2: 'Light', 3: 'Medium'}"
      ]
     },
     "execution_count": 16,
     "metadata": {},
     "output_type": "execute_result"
    }
   ],
   "source": [
    "idx2class= {j: i for i, j in train_dataset.class_to_idx.items()}\n",
    "idx2class"
   ]
  },
  {
   "cell_type": "code",
   "execution_count": 18,
   "metadata": {},
   "outputs": [],
   "source": [
    "# Сохраняем модель\n",
    "model_path = 'model_coffe.pth'\n",
    "torch.save(model.state_dict(), model_path)\n"
   ]
  },
  {
   "cell_type": "code",
   "execution_count": null,
   "metadata": {},
   "outputs": [],
   "source": []
  }
 ],
 "metadata": {
  "kernelspec": {
   "display_name": "Python 3",
   "language": "python",
   "name": "python3"
  },
  "language_info": {
   "codemirror_mode": {
    "name": "ipython",
    "version": 3
   },
   "file_extension": ".py",
   "mimetype": "text/x-python",
   "name": "python",
   "nbconvert_exporter": "python",
   "pygments_lexer": "ipython3",
   "version": "3.11.10"
  }
 },
 "nbformat": 4,
 "nbformat_minor": 2
}
